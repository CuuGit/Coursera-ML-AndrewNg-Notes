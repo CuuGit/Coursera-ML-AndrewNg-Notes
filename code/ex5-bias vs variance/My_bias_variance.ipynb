{
 "cells": [
  {
   "cell_type": "markdown",
   "metadata": {},
   "source": [
    "# Exercise5——偏差和方差"
   ]
  },
  {
   "cell_type": "markdown",
   "metadata": {},
   "source": [
    "练习绘制学习曲线，以观察不同的参数下学习曲线的变化情况。根据学习曲线判断是高偏差还是高方差，然后调整模型。"
   ]
  },
  {
   "cell_type": "code",
   "execution_count": 250,
   "metadata": {},
   "outputs": [],
   "source": [
    "import numpy as np\n",
    "import pandas as pd\n",
    "import scipy.io as sio\n",
    "import scipy.optimize as opt\n",
    "import seaborn as sns\n",
    "import matplotlib.pyplot as plt"
   ]
  },
  {
   "cell_type": "code",
   "execution_count": 251,
   "metadata": {},
   "outputs": [],
   "source": [
    "def load_data(path):\n",
    "    '''\n",
    "        pandas has trouble taking this 2d ndarray to construct a dataframe, so I ravel the results\n",
    "    '''\n",
    "    d = sio.loadmat(path)\n",
    "    return map(np.ravel, [d['X'], d['y'], d['Xval'], d['yval'], d['Xtest'], d['ytest']])"
   ]
  },
  {
   "cell_type": "code",
   "execution_count": 252,
   "metadata": {},
   "outputs": [],
   "source": [
    "X, y, Xval, yval, Xtest, ytest = load_data('ex5data1.mat')"
   ]
  },
  {
   "cell_type": "code",
   "execution_count": 253,
   "metadata": {},
   "outputs": [
    {
     "data": {
      "text/plain": [
       "((12,), (12,), (21,), (21,), (21,), (21,))"
      ]
     },
     "execution_count": 253,
     "metadata": {},
     "output_type": "execute_result"
    }
   ],
   "source": [
    "X.shape, y.shape, Xval.shape, yval.shape, Xtest.shape, ytest.shape"
   ]
  },
  {
   "cell_type": "code",
   "execution_count": 254,
   "metadata": {},
   "outputs": [
    {
     "data": {
      "image/png": "[encoded data removed]",
      "text/plain": [
       "<Figure size 504x504 with 1 Axes>"
      ]
     },
     "metadata": {},
     "output_type": "display_data"
    }
   ],
   "source": [
    "df = pd.DataFrame({'water_level':X, 'flow':y})\n",
    "sns.lmplot('water_level', 'flow', data=df, fit_reg=False, size=7)\n",
    "plt.show()"
   ]
  },
  {
   "cell_type": "code",
   "execution_count": 255,
   "metadata": {},
   "outputs": [
    {
     "data": {
      "text/plain": [
       "((12, 2), (21, 2), (21, 2))"
      ]
     },
     "execution_count": 255,
     "metadata": {},
     "output_type": "execute_result"
    }
   ],
   "source": [
    "X, Xval, Xtest = [np.insert(x.reshape(x.shape[0], 1), 0, np.ones(x.shape[0]), axis=1) for x in (X, Xval, Xtest)]\n",
    "X.shape, Xval.shape, Xtest.shape"
   ]
  },
  {
   "cell_type": "markdown",
   "metadata": {},
   "source": [
    "### 代价\n",
    "<img style=\"float: left;\" src=\"../img/linear_cost.png\">"
   ]
  },
  {
   "cell_type": "code",
   "execution_count": 256,
   "metadata": {},
   "outputs": [],
   "source": [
    "def cost(theta, X, y):\n",
    "    '''\n",
    "    X : (m, n), y : (m, ), theta : (n, )\n",
    "    '''\n",
    "    m = X.shape[0]\n",
    "    inner = X @ theta - y    # (m, 1)\n",
    "    square_sum = inner.T @ inner\n",
    "    cost = square_sum / (2*m)\n",
    "    \n",
    "    return cost"
   ]
  },
  {
   "cell_type": "code",
   "execution_count": 257,
   "metadata": {},
   "outputs": [
    {
     "data": {
      "text/plain": [
       "303.9515255535976"
      ]
     },
     "execution_count": 257,
     "metadata": {},
     "output_type": "execute_result"
    }
   ],
   "source": [
    "theta = np.ones(X.shape[1])    # 初始化theta\n",
    "cost(theta, X, y)          # 看看初始化theta目前的代价，我们的任务就是最小化这个cost"
   ]
  },
  {
   "cell_type": "markdown",
   "metadata": {},
   "source": [
    "### 正则化代价"
   ]
  },
  {
   "cell_type": "code",
   "execution_count": 258,
   "metadata": {},
   "outputs": [],
   "source": [
    "def regularized_cost(theta, X, y, l=1):\n",
    "    m = X.shape[0]\n",
    "    regularized_term = (l/(2*m)) * np.power(theta[1:], 2).sum()\n",
    "    return cost(theta, X, y) + regularized_term"
   ]
  },
  {
   "cell_type": "markdown",
   "metadata": {},
   "source": [
    "### 向量化梯度\n",
    "<img style=\"float: left;\" src=\"../img/vector_gradient.png\">"
   ]
  },
  {
   "cell_type": "code",
   "execution_count": 259,
   "metadata": {},
   "outputs": [],
   "source": [
    "def gradient(theta, X, y):\n",
    "    m = X.shape[0]\n",
    "    inner = X.T @ (X @ theta - y)\n",
    "    return inner / m"
   ]
  },
  {
   "cell_type": "code",
   "execution_count": 260,
   "metadata": {},
   "outputs": [
    {
     "data": {
      "text/plain": [
       "array([-15.30301567, 598.16741084])"
      ]
     },
     "execution_count": 260,
     "metadata": {},
     "output_type": "execute_result"
    }
   ],
   "source": [
    "gradient(theta, X, y)    # 看一下目前初始化的theta所在的点的两个特征方向的斜率"
   ]
  },
  {
   "cell_type": "markdown",
   "metadata": {},
   "source": [
    "### 梯度正则化\n",
    "<img style=\"float: left;\" src=\"../img/linear_reg_gradient.png\">"
   ]
  },
  {
   "cell_type": "code",
   "execution_count": 261,
   "metadata": {},
   "outputs": [],
   "source": [
    "def regularized_gradient(theta, X, y, l=1):\n",
    "    m = X.shape[0]\n",
    "    regularized_term = theta.copy()\n",
    "    regularized_term[0] = 0\n",
    "    return gradient(theta, X, y) + (l/m)*regularized_term"
   ]
  },
  {
   "cell_type": "code",
   "execution_count": 262,
   "metadata": {},
   "outputs": [
    {
     "data": {
      "text/plain": [
       "array([-15.30301567, 598.25074417])"
      ]
     },
     "execution_count": 262,
     "metadata": {},
     "output_type": "execute_result"
    }
   ],
   "source": [
    "regularized_gradient(theta, X, y)    # 看一看"
   ]
  },
  {
   "cell_type": "markdown",
   "metadata": {},
   "source": [
    "## 拟合数据"
   ]
  },
  {
   "cell_type": "code",
   "execution_count": 263,
   "metadata": {},
   "outputs": [],
   "source": [
    "def linear_regression_np(X, y, l=1):\n",
    "    # init theta\n",
    "    theta = np.ones(X.shape[1])\n",
    "    # train it\n",
    "    res = opt.minimize(fun=regularized_cost,\n",
    "                       x0=theta,\n",
    "                       method='TNC',\n",
    "                       args=(X, y, l),\n",
    "                       jac=regularized_gradient,\n",
    "                       options={'disp':True})\n",
    "    return res"
   ]
  },
  {
   "cell_type": "code",
   "execution_count": 264,
   "metadata": {},
   "outputs": [],
   "source": [
    "theta = np.ones(X.shape[1])\n",
    "finall_theta = linear_regression_np(X, y, l=0).get('x')"
   ]
  },
  {
   "cell_type": "code",
   "execution_count": 265,
   "metadata": {},
   "outputs": [
    {
     "data": {
      "image/png": "[encoded data removed]",
      "text/plain": [
       "<Figure size 432x288 with 1 Axes>"
      ]
     },
     "metadata": {},
     "output_type": "display_data"
    }
   ],
   "source": [
    "k = finall_theta[1]\n",
    "b = finall_theta[0]\n",
    "plt.scatter(X[:,1], y, label='Tarining Data')\n",
    "plt.plot(X[:,1], k*X[:,1]+b, label='Prediction')    # y = kx +b\n",
    "plt.legend(loc=2)\n",
    "plt.show()"
   ]
  },
  {
   "cell_type": "code",
   "execution_count": 266,
   "metadata": {},
   "outputs": [],
   "source": [
    "tarning_cost, cv_cost = [], []"
   ]
  },
  {
   "cell_type": "markdown",
   "metadata": {},
   "source": [
    "1. 使用训练集拟合模型\n",
    "2. 计算训练集代价和验证集代价，未使用正则化，即 $\\lambda=0$"
   ]
  },
  {
   "cell_type": "code",
   "execution_count": 267,
   "metadata": {},
   "outputs": [],
   "source": [
    "m = X.shape[0]\n",
    "for i in range(1, m+1):\n",
    "    res = linear_regression_np(X[:i, :], y[:i], l=0)    # 逐渐增加样本数\n",
    "    \n",
    "    tc = regularized_cost(res.x, X[:i, :], y[:i], l=0)\n",
    "    cv = regularized_cost(res.x, Xval, yval, l=0)\n",
    "    \n",
    "    tarning_cost.append(tc)\n",
    "    cv_cost.append(cv)"
   ]
  },
  {
   "cell_type": "code",
   "execution_count": 268,
   "metadata": {},
   "outputs": [
    {
     "data": {
      "image/png": "[encoded data removed]",
      "text/plain": [
       "<Figure size 432x288 with 1 Axes>"
      ]
     },
     "metadata": {},
     "output_type": "display_data"
    }
   ],
   "source": [
    "plt.plot(np.arange(1, m+1), tarning_cost, label='Tarning Cost')\n",
    "plt.plot(np.arange(1, m+1), cv_cost, label='CV Cost')\n",
    "plt.legend(loc=0)\n",
    "plt.grid()\n",
    "plt.show()"
   ]
  },
  {
   "cell_type": "markdown",
   "metadata": {},
   "source": [
    "可以看出代价比较大，欠拟合，模型不太好。"
   ]
  },
  {
   "cell_type": "markdown",
   "metadata": {},
   "source": [
    "## 使用多项式回归试试"
   ]
  },
  {
   "cell_type": "markdown",
   "metadata": {},
   "source": [
    "##### 定义多项式"
   ]
  },
  {
   "cell_type": "code",
   "execution_count": 269,
   "metadata": {},
   "outputs": [],
   "source": [
    "def poly_feature(X, power, as_ndarray=False):\n",
    "    data = {'f{}'.format(i):np.power(X, i) for i in range(1, power+1)}\n",
    "    df = pd.DataFrame(data)\n",
    "    return df.values if as_ndarray else df        # matrix 即 ndarray"
   ]
  },
  {
   "cell_type": "markdown",
   "metadata": {},
   "source": [
    "##### 归一化数据"
   ]
  },
  {
   "cell_type": "code",
   "execution_count": 270,
   "metadata": {},
   "outputs": [],
   "source": [
    "def normalize_feature(df):\n",
    "    return df.apply(lambda column: (column - column.mean()) / column.std())"
   ]
  },
  {
   "cell_type": "markdown",
   "metadata": {},
   "source": [
    "##### 最终的多项式函数"
   ]
  },
  {
   "cell_type": "code",
   "execution_count": 271,
   "metadata": {},
   "outputs": [],
   "source": [
    "def prepare_poly_data(*args, power):\n",
    "    ''' *args : keep feeding in X, Xval, Xtest will return in the same order '''\n",
    "    def prepare(x, power=power):\n",
    "        # expand feature\n",
    "        df = poly_feature(x, power)\n",
    "        # normalization\n",
    "        data = normalize_feature(df).values\n",
    "        # add intercept term\n",
    "        return np.insert(data, 0, np.ones(data.shape[0]), axis=1)\n",
    "    \n",
    "    return [prepare(x) for x in args]"
   ]
  },
  {
   "cell_type": "code",
   "execution_count": 272,
   "metadata": {},
   "outputs": [],
   "source": [
    "X, y, Xval, yval, Xtest, ytest = load_data('ex5data1.mat')"
   ]
  },
  {
   "cell_type": "markdown",
   "metadata": {},
   "source": [
    "## 开始准备数据\n",
    "1. 扩展数据到8阶，或者拓展成你想要的多项式幂次\n",
    "2. don't forget intercept term"
   ]
  },
  {
   "cell_type": "code",
   "execution_count": 273,
   "metadata": {},
   "outputs": [],
   "source": [
    "X_poly, Xval_poly, Xtest_poly = prepare_poly_data(X, Xval, Xtest, power=8)"
   ]
  },
  {
   "cell_type": "markdown",
   "metadata": {},
   "source": [
    "## 画出学习曲线"
   ]
  },
  {
   "cell_type": "markdown",
   "metadata": {},
   "source": [
    "##### 打包学习曲线函数"
   ]
  },
  {
   "cell_type": "code",
   "execution_count": 274,
   "metadata": {},
   "outputs": [],
   "source": [
    "def plot_learning_curve(X, y, Xval, yval, l=0):\n",
    "    m = X.shape[0]\n",
    "    training_cost, cv_cost = [], []\n",
    "    \n",
    "    for i in range(1, m+1):\n",
    "        res = linear_regression_np(X[:i, :], y[:i], l=l)\n",
    "        \n",
    "        # remember, you are computing the non-regularized cost. Regularization is used to fit parameters only!\n",
    "        tc = cost(res.x, X[:i, :], y[:i])\n",
    "        cv = cost(res.x, Xval, yval)\n",
    "        \n",
    "        training_cost.append(tc)\n",
    "        cv_cost.append(cv)\n",
    "        \n",
    "    plt.plot(np.arange(1, m+1), training_cost, label='Training Cost')\n",
    "    plt.plot(np.arange(1, m+1), cv_cost, label='CV Cost')\n",
    "    plt.legend(loc=1)\n",
    "    plt.show()"
   ]
  },
  {
   "cell_type": "markdown",
   "metadata": {},
   "source": [
    "##### 先看看没有正则化的8阶多项式效果"
   ]
  },
  {
   "cell_type": "code",
   "execution_count": 275,
   "metadata": {},
   "outputs": [
    {
     "data": {
      "image/png": "[encoded data removed]",
      "text/plain": [
       "<Figure size 432x288 with 1 Axes>"
      ]
     },
     "metadata": {},
     "output_type": "display_data"
    }
   ],
   "source": [
    "plot_learning_curve(X_poly, y, Xval_poly, yval, l=0)"
   ]
  },
  {
   "cell_type": "markdown",
   "metadata": {},
   "source": [
    "可以看到，训练集上的代价为0，说明过拟合了。"
   ]
  },
  {
   "cell_type": "markdown",
   "metadata": {},
   "source": [
    "##### 我们再看看，惩罚系数为1时的效果。"
   ]
  },
  {
   "cell_type": "code",
   "execution_count": 276,
   "metadata": {},
   "outputs": [
    {
     "data": {
      "image/png": "[encoded data removed]",
      "text/plain": [
       "<Figure size 432x288 with 1 Axes>"
      ]
     },
     "metadata": {},
     "output_type": "display_data"
    }
   ],
   "source": [
    "plot_learning_curve(X_poly, y, Xval_poly, yval, l=1)"
   ]
  },
  {
   "cell_type": "markdown",
   "metadata": {},
   "source": [
    "过拟合状态有所缓和"
   ]
  },
  {
   "cell_type": "markdown",
   "metadata": {},
   "source": [
    "##### 再看看惩罚系数为100时的效果"
   ]
  },
  {
   "cell_type": "code",
   "execution_count": 277,
   "metadata": {},
   "outputs": [
    {
     "data": {
      "image/png": "[encoded data removed]",
      "text/plain": [
       "<Figure size 432x288 with 1 Axes>"
      ]
     },
     "metadata": {},
     "output_type": "display_data"
    }
   ],
   "source": [
    "plot_learning_curve(X_poly, y, Xval_poly, yval, l=10)"
   ]
  },
  {
   "cell_type": "markdown",
   "metadata": {},
   "source": [
    "惩罚系数太大，缓解过拟合过度了，变成欠拟合了。"
   ]
  },
  {
   "cell_type": "markdown",
   "metadata": {},
   "source": [
    "## 经过上面几次随机的测试，发现对于8阶多项式，最佳的 $\\lambda$ 应该在0-10之间\n",
    "### 所以我们画出0-10之间的各个 $\\lambda$ 对应的cost，以便我们找到最佳的那个 $\\lambda$"
   ]
  },
  {
   "cell_type": "code",
   "execution_count": 278,
   "metadata": {},
   "outputs": [
    {
     "data": {
      "text/plain": [
       "array([ 0.  ,  0.25,  0.5 ,  0.75,  1.  ,  1.25,  1.5 ,  1.75,  2.  ,\n",
       "        2.25,  2.5 ,  2.75,  3.  ,  3.25,  3.5 ,  3.75,  4.  ,  4.25,\n",
       "        4.5 ,  4.75,  5.  ,  5.25,  5.5 ,  5.75,  6.  ,  6.25,  6.5 ,\n",
       "        6.75,  7.  ,  7.25,  7.5 ,  7.75,  8.  ,  8.25,  8.5 ,  8.75,\n",
       "        9.  ,  9.25,  9.5 ,  9.75, 10.  ])"
      ]
     },
     "execution_count": 278,
     "metadata": {},
     "output_type": "execute_result"
    }
   ],
   "source": [
    "l_condidate = np.linspace(0, 10, 41)\n",
    "l_condidate"
   ]
  },
  {
   "cell_type": "code",
   "execution_count": 279,
   "metadata": {},
   "outputs": [],
   "source": [
    "training_cost, cv_cost, test_cost = [], [], []\n",
    "for l in l_condidate:\n",
    "    res = linear_regression_np(X_poly, y, l)\n",
    "    \n",
    "    tc = cost(res.x, X_poly, y)\n",
    "    cv = cost(res.x, Xval_poly, yval)\n",
    "    ts = cost(res.x, Xtest_poly, ytest)\n",
    "    \n",
    "    training_cost.append(tc)\n",
    "    cv_cost.append(cv)\n",
    "    test_cost.append(ts)"
   ]
  },
  {
   "cell_type": "code",
   "execution_count": 280,
   "metadata": {},
   "outputs": [
    {
     "data": {
      "image/png": "[encoded data removed]",
      "text/plain": [
       "<Figure size 864x576 with 1 Axes>"
      ]
     },
     "metadata": {},
     "output_type": "display_data"
    }
   ],
   "source": [
    "plt.figure(figsize=(12, 8))\n",
    "plt.plot(l_condidate, training_cost, label='Training Cost')\n",
    "plt.plot(l_condidate, cv_cost, label='CV Cost')\n",
    "plt.legend(loc=1)\n",
    "plt.xlabel('Lambda')\n",
    "plt.ylabel('Cost')\n",
    "plt.grid()\n",
    "plt.show()"
   ]
  },
  {
   "cell_type": "markdown",
   "metadata": {},
   "source": [
    "可以看到验证集最好的代价是 $\\lambda$ 在0-2之间"
   ]
  },
  {
   "cell_type": "markdown",
   "metadata": {},
   "source": [
    "#### 我们将所有的 $\\lambda$ 在验证集和测试集的代价都打印出来"
   ]
  },
  {
   "cell_type": "code",
   "execution_count": 288,
   "metadata": {},
   "outputs": [
    {
     "name": "stdout",
     "output_type": "stream",
     "text": [
      "CV Cost(l=0.00) = 13.38368335936944, Test Cost(l=0.00) = 10.122298845834932\n",
      "CV Cost(l=0.25) = 5.689263830050454, Test Cost(l=0.25) = 7.507927722821644\n",
      "CV Cost(l=0.50) = 4.892794467888311, Test Cost(l=0.50) = 7.066579494855458\n",
      "CV Cost(l=0.75) = 4.741147014375082, Test Cost(l=0.75) = 7.16567377083151\n",
      "CV Cost(l=1.00) = 4.696663548477304, Test Cost(l=1.00) = 7.466265914249742\n",
      "CV Cost(l=1.25) = 4.675460251539405, Test Cost(l=1.25) = 7.867473076191957\n",
      "CV Cost(l=1.50) = 4.666397480323288, Test Cost(l=1.50) = 8.328509612342799\n",
      "CV Cost(l=1.75) = 4.671873348295794, Test Cost(l=1.75) = 8.829414305619778\n",
      "CV Cost(l=2.00) = 4.695268162787502, Test Cost(l=2.00) = 9.358710661644263\n",
      "CV Cost(l=2.25) = 4.739430100408731, Test Cost(l=2.25) = 9.909372661821077\n",
      "CV Cost(l=2.50) = 4.805739296050716, Test Cost(l=2.50) = 10.47608596865792\n",
      "CV Cost(l=2.75) = 4.894620261844558, Test Cost(l=2.75) = 11.055183038881838\n",
      "CV Cost(l=3.00) = 5.005830664198133, Test Cost(l=3.00) = 11.643931713037912\n",
      "CV Cost(l=3.25) = 5.138671511965368, Test Cost(l=3.25) = 12.239877451582341\n",
      "CV Cost(l=3.50) = 5.292115126271354, Test Cost(l=3.50) = 12.841084321520746\n",
      "CV Cost(l=3.75) = 5.464986949696829, Test Cost(l=3.75) = 13.445964447097621\n",
      "CV Cost(l=4.00) = 5.6560316914209565, Test Cost(l=4.00) = 14.053159392541586\n",
      "CV Cost(l=4.25) = 5.863956279791399, Test Cost(l=4.25) = 14.661506265015362\n",
      "CV Cost(l=4.50) = 6.087469548503141, Test Cost(l=4.50) = 15.269999813352516\n",
      "CV Cost(l=4.75) = 6.325311662177977, Test Cost(l=4.75) = 15.877771290532326\n",
      "CV Cost(l=5.00) = 6.576296010680544, Test Cost(l=5.00) = 16.48413061400263\n",
      "CV Cost(l=5.25) = 6.839205175112225, Test Cost(l=5.25) = 17.088269077138907\n",
      "CV Cost(l=5.50) = 7.112978087324266, Test Cost(l=5.50) = 17.68971367808394\n",
      "CV Cost(l=5.75) = 7.396590206840905, Test Cost(l=5.75) = 18.28797493691272\n",
      "CV Cost(l=6.00) = 7.689075243943553, Test Cost(l=6.00) = 18.882620203409807\n",
      "CV Cost(l=6.25) = 7.989531078977747, Test Cost(l=6.25) = 19.473274564658873\n",
      "CV Cost(l=6.50) = 8.29711542550469, Test Cost(l=6.50) = 20.05961002087424\n",
      "CV Cost(l=6.75) = 8.611045844001431, Test Cost(l=6.75) = 20.64134575149371\n",
      "CV Cost(l=7.00) = 8.930592735870345, Test Cost(l=7.00) = 21.218231045405865\n",
      "CV Cost(l=7.25) = 9.255116334586287, Test Cost(l=7.25) = 21.790183591922535\n",
      "CV Cost(l=7.50) = 9.583933749690388, Test Cost(l=7.50) = 22.356797889502484\n",
      "CV Cost(l=7.75) = 9.916504880855044, Test Cost(l=7.75) = 22.918020284985282\n",
      "CV Cost(l=8.00) = 10.25230983368281, Test Cost(l=8.00) = 23.473835009628935\n",
      "CV Cost(l=8.25) = 10.590846080469126, Test Cost(l=8.25) = 24.02407556227512\n",
      "CV Cost(l=8.50) = 10.931660993594992, Test Cost(l=8.50) = 24.56866343930937\n",
      "CV Cost(l=8.75) = 11.274337547871424, Test Cost(l=8.75) = 25.10753800093534\n",
      "CV Cost(l=9.00) = 11.618509033037247, Test Cost(l=9.00) = 25.640684524518196\n",
      "CV Cost(l=9.25) = 11.963779798945165, Test Cost(l=9.25) = 26.168000380606102\n",
      "CV Cost(l=9.50) = 12.30984918509056, Test Cost(l=9.50) = 26.68950890326292\n",
      "CV Cost(l=9.75) = 12.65641759747927, Test Cost(l=9.75) = 27.20520179851149\n",
      "CV Cost(l=10.00) = 13.003209955652043, Test Cost(l=10.00) = 27.7150802906621\n"
     ]
    }
   ],
   "source": [
    "for i,j,h in zip(l_condidate, cv_cost, test_cost):\n",
    "    print('CV Cost(l={:.2f}) = {}, Test Cost(l={:.2f}) = {}'.format(i, j, i, h))"
   ]
  },
  {
   "cell_type": "markdown",
   "metadata": {},
   "source": [
    "通过上述的数据可以看出，$\\lambda=0.5$ 左右时，能得到最优的代价"
   ]
  },
  {
   "cell_type": "markdown",
   "metadata": {},
   "source": [
    "## 以上为8阶多项式调节不同的正则化惩罚系数的过程及效果，也可以再试着改变多项式的阶数"
   ]
  },
  {
   "cell_type": "code",
   "execution_count": null,
   "metadata": {},
   "outputs": [],
   "source": []
  }
 ],
 "metadata": {
  "kernelspec": {
   "display_name": "Python 3",
   "language": "python",
   "name": "python3"
  },
  "language_info": {
   "codemirror_mode": {
    "name": "ipython",
    "version": 3
   },
   "file_extension": ".py",
   "mimetype": "text/x-python",
   "name": "python",
   "nbconvert_exporter": "python",
   "pygments_lexer": "ipython3",
   "version": "3.6.5"
  }
 },
 "nbformat": 4,
 "nbformat_minor": 2
}
