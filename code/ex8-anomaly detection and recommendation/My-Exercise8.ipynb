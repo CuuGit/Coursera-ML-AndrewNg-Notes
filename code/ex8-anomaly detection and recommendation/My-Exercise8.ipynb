{
 "cells": [
  {
   "cell_type": "markdown",
   "metadata": {},
   "source": [
    "# 课后练习2：推荐系统"
   ]
  },
  {
   "cell_type": "code",
   "execution_count": 104,
   "metadata": {},
   "outputs": [],
   "source": [
    "import matplotlib.pyplot as plt\n",
    "import seaborn as sns\n",
    "import numpy as np\n",
    "import pandas as pd\n",
    "import scipy.io as sio\n",
    "\n",
    "sns.set(context=\"notebook\", style=\"white\")"
   ]
  },
  {
   "cell_type": "markdown",
   "metadata": {},
   "source": [
    "### 1. load data and setting up"
   ]
  },
  {
   "cell_type": "markdown",
   "metadata": {},
   "source": [
    "According to the directions：  \n",
    "&nbsp;&nbsp;&nbsp;&nbsp;&nbsp;&nbsp;&nbsp;&nbsp;        X: num_movies(1682) $\\times$ num_features(10) matrix of movie features  \n",
    "&nbsp;&nbsp;&nbsp;&nbsp;    Theta: num_user(943) $\\times$ num_features(10) matrix of user features  \n",
    "&nbsp;&nbsp;&nbsp;&nbsp;&nbsp;&nbsp;&nbsp;&nbsp;        Y: num_movies $\\times$ num_users matrix of user rating of movies  \n",
    "&nbsp;&nbsp;&nbsp;&nbsp;&nbsp;&nbsp;&nbsp;&nbsp;        R: num_movies $\\times$ num_users matrix, where R(i,j)=1 if the i-th movie was rated by the j-th user (2进制数组)"
   ]
  },
  {
   "cell_type": "code",
   "execution_count": 105,
   "metadata": {},
   "outputs": [
    {
     "data": {
      "text/plain": [
       "((1682, 943), (1682, 943), (943, 10), (1682, 10))"
      ]
     },
     "execution_count": 105,
     "metadata": {},
     "output_type": "execute_result"
    }
   ],
   "source": [
    "movies_mat = sio.loadmat('./data/ex8_movies.mat')\n",
    "Y, R = movies_mat.get('Y'), movies_mat.get('R')\n",
    "\n",
    "param_mat = sio.loadmat('./data/ex8_movieParams.mat')\n",
    "theta, X = param_mat.get('Theta'), param_mat.get('X')\n",
    "\n",
    "Y.shape, R.shape, theta.shape, X.shape"
   ]
  },
  {
   "cell_type": "markdown",
   "metadata": {},
   "source": [
    "### 2. 代价函数：$J(x^{(1)},...,x^{(n_m)},\\theta^{(1)},...,\\theta^{(n_u)})=\\frac{1}{2}\\sum_\\limits{(i,j):r(i,j)=1}((\\theta^{(j)})^Tx^{(i)}-y^{(i,j)})^2+\\frac{\\lambda}{2}\\sum_\\limits{i=1}^{n_m}\\sum_\\limits{k=1}^{n}(x_k^{(i)})^2+\\frac{\\lambda}{2}\\sum_\\limits{j=1}^{n_u}\\sum_\\limits{k=1}^{n}(\\theta_k^{(j)})^2$"
   ]
  },
  {
   "cell_type": "code",
   "execution_count": 106,
   "metadata": {},
   "outputs": [],
   "source": [
    "def serialize(X, theta):\n",
    "    \n",
    "    return np.concatenate((X.ravel(), theta.ravel()))\n",
    "\n",
    "def deserialize(param, n_movie, n_user, n_features):\n",
    "    \n",
    "    return param[:n_movie * n_features].reshape(n_movie, n_features), param[n_movie * n_features:].reshape(n_user, n_features)\n",
    "\n",
    "def cost(param, Y, R, n_features):\n",
    "    \n",
    "    n_movie, n_user = Y.shape\n",
    "    X, theta = deserialize(param, n_movie, n_user, n_features)\n",
    "    \n",
    "    inner = np.multiply(X @ theta.T - Y, R)\n",
    "    \n",
    "    return np.power(inner, 2).sum() / 2\n",
    "\n",
    "def regularized_cost(param, Y, R, n_features, l=1):\n",
    "    \n",
    "    reg_term = np.power(param, 2).sum() * (l / 2)\n",
    "    \n",
    "    return cost(param, Y, R, n_features) + reg_term"
   ]
  },
  {
   "cell_type": "markdown",
   "metadata": {},
   "source": [
    "### 3. 梯度：  \n",
    "### &nbsp;&nbsp;&nbsp;&nbsp;&nbsp;&nbsp;&nbsp;&nbsp;&nbsp;&nbsp;&nbsp;&nbsp;&nbsp;&nbsp;&nbsp;&nbsp;$x_k^{(i)}:=x_k^{(i)}-\\alpha\\left(\\sum_{j:r(i,j)=1}(((\\theta^{(j)})^Tx^{(i)}-y^{(i,j)})\\theta_k^{j}+\\lambda x_k^{(i)}\\right)$  \n",
    "### &nbsp;&nbsp;&nbsp;&nbsp;&nbsp;&nbsp;&nbsp;&nbsp;&nbsp;&nbsp;&nbsp;&nbsp;&nbsp;&nbsp;&nbsp;&nbsp;$\\theta_k^{(i)}:=\\theta_k^{(i)}-\\alpha\\left(\\sum_{i:r(i,j)=1}(((\\theta^{(j)})^Tx^{(i)}-y^{(i,j)})x_k^{(i)}+\\lambda \\theta_k^{(j)}\\right)$"
   ]
  },
  {
   "cell_type": "code",
   "execution_count": 107,
   "metadata": {},
   "outputs": [],
   "source": [
    "def gradient(param, Y, R, n_features):\n",
    "    \n",
    "    n_movie, n_user = Y.shape\n",
    "    X, theta = deserialize(param, n_movie, n_user, n_features)\n",
    "    \n",
    "    inner = np.multiply(X @ theta.T - Y, R)\n",
    "    X_grad = inner @ theta\n",
    "    theta_grad = inner.T @ X\n",
    "    \n",
    "    return serialize(X_grad, theta_grad)\n",
    "\n",
    "def regularized_gradient(param, Y, R, n_features, l=1):\n",
    "    \n",
    "    grad = gradient(param, Y, R, n_features)\n",
    "    reg_term = l * param\n",
    "    \n",
    "    return grad + reg_term"
   ]
  },
  {
   "cell_type": "markdown",
   "metadata": {},
   "source": [
    "### 4. 运行系统"
   ]
  },
  {
   "cell_type": "markdown",
   "metadata": {},
   "source": [
    "#### 练习中，给出的计算代价是 22.22，我们试试是不是一致，以检验我们的代价函数是否正确。也可检验下正则化代价，正则化梯度，就不全部检验了。"
   ]
  },
  {
   "cell_type": "code",
   "execution_count": 108,
   "metadata": {},
   "outputs": [
    {
     "data": {
      "text/plain": [
       "22.224603725685675"
      ]
     },
     "execution_count": 108,
     "metadata": {},
     "output_type": "execute_result"
    }
   ],
   "source": [
    "users = 4\n",
    "movies = 5\n",
    "features = 3\n",
    "\n",
    "X_sub = X[:movies, :features]\n",
    "theta_sub = theta[:users, :features]\n",
    "Y_sub = Y[:movies, :users]\n",
    "R_sub = R[:movies, :users]\n",
    "\n",
    "param_sub = serialize(X_sub, theta_sub)\n",
    "cost(param_sub, Y_sub, R_sub, features)"
   ]
  },
  {
   "cell_type": "markdown",
   "metadata": {},
   "source": [
    "#### 接下来，我们按照练习手册中的方法，用上述系统给某个用户推荐电影，最后核对是否与手册中的结果一致"
   ]
  },
  {
   "cell_type": "markdown",
   "metadata": {},
   "source": [
    "#### 第一步：解析 movie_ids.txt 文件，该文件中是 1682 部电影的名称，我们将所有电影名载入到 movie_list 中"
   ]
  },
  {
   "cell_type": "code",
   "execution_count": 109,
   "metadata": {},
   "outputs": [],
   "source": [
    "movie_list = []\n",
    "\n",
    "with open('./data/movie_ids.txt', encoding='latin-1') as f:\n",
    "    for line in f:\n",
    "        tokens = line.strip().split(' ')\n",
    "        movie_list.append(' '.join(tokens[1:]))\n",
    "\n",
    "movie_list = np.array(movie_list)        # 将存放电影名的列表，转换为 ndarray 对象"
   ]
  },
  {
   "cell_type": "code",
   "execution_count": 110,
   "metadata": {},
   "outputs": [
    {
     "data": {
      "text/plain": [
       "'Toy Story (1995)'"
      ]
     },
     "execution_count": 110,
     "metadata": {},
     "output_type": "execute_result"
    }
   ],
   "source": [
    "movie_list[0]"
   ]
  },
  {
   "cell_type": "markdown",
   "metadata": {},
   "source": [
    "#### 第二步：虚拟一个用户，该用户仅仅对 1682 部电影中的 11 部进行过评分，练习中已给出"
   ]
  },
  {
   "cell_type": "code",
   "execution_count": 111,
   "metadata": {},
   "outputs": [],
   "source": [
    "ratings = np.zeros(1682)\n",
    "\n",
    "ratings[0] = 4\n",
    "ratings[6] = 3\n",
    "ratings[11] = 5\n",
    "ratings[53] = 4\n",
    "ratings[63] = 5\n",
    "ratings[65] = 3\n",
    "ratings[68] = 5\n",
    "ratings[97] = 2\n",
    "ratings[182] = 4\n",
    "ratings[225] = 5\n",
    "ratings[354] = 5"
   ]
  },
  {
   "cell_type": "markdown",
   "metadata": {},
   "source": [
    "#### 第三步：准备数据。"
   ]
  },
  {
   "cell_type": "code",
   "execution_count": 112,
   "metadata": {},
   "outputs": [
    {
     "data": {
      "text/plain": [
       "((1682, 943), (1682, 943))"
      ]
     },
     "execution_count": 112,
     "metadata": {},
     "output_type": "execute_result"
    }
   ],
   "source": [
    "Y, R = movies_mat.get('Y'), movies_mat.get('R')\n",
    "Y.shape, R.shape"
   ]
  },
  {
   "cell_type": "code",
   "execution_count": 113,
   "metadata": {},
   "outputs": [
    {
     "data": {
      "text/plain": [
       "((1682, 944), (1682, 944))"
      ]
     },
     "execution_count": 113,
     "metadata": {},
     "output_type": "execute_result"
    }
   ],
   "source": [
    "Y = np.insert(Y, 0, ratings, axis=1)        # 将虚拟的用户插入到第 0 列\n",
    "R = np.insert(R, 0, ratings != 0, axis=1)    # 与 Y 一致，但插入的是二进制掩码\n",
    "\n",
    "Y.shape, R.shape"
   ]
  },
  {
   "cell_type": "code",
   "execution_count": 114,
   "metadata": {},
   "outputs": [],
   "source": [
    "n_features = 50\n",
    "n_movie, n_user = Y.shape\n",
    "l = 10"
   ]
  },
  {
   "cell_type": "markdown",
   "metadata": {},
   "source": [
    "##### 随机初始化 X 和 theta"
   ]
  },
  {
   "cell_type": "code",
   "execution_count": 115,
   "metadata": {},
   "outputs": [
    {
     "data": {
      "text/plain": [
       "((1682, 50), (944, 50))"
      ]
     },
     "execution_count": 115,
     "metadata": {},
     "output_type": "execute_result"
    }
   ],
   "source": [
    "X = np.random.standard_normal((n_movie, n_features))\n",
    "theta = np.random.standard_normal((n_user, n_features))\n",
    "\n",
    "X.shape, theta.shape"
   ]
  },
  {
   "cell_type": "code",
   "execution_count": 116,
   "metadata": {},
   "outputs": [],
   "source": [
    "param = serialize(X, theta)"
   ]
  },
  {
   "cell_type": "markdown",
   "metadata": {},
   "source": [
    "##### 归一化评分矩阵"
   ]
  },
  {
   "cell_type": "code",
   "execution_count": 117,
   "metadata": {},
   "outputs": [
    {
     "data": {
      "text/plain": [
       "4.6862111343939375e-17"
      ]
     },
     "execution_count": 117,
     "metadata": {},
     "output_type": "execute_result"
    }
   ],
   "source": [
    "Y_norm = Y - Y.mean()\n",
    "Y_norm.mean()"
   ]
  },
  {
   "cell_type": "markdown",
   "metadata": {},
   "source": [
    "#### 第四步：训练模型"
   ]
  },
  {
   "cell_type": "code",
   "execution_count": 118,
   "metadata": {},
   "outputs": [],
   "source": [
    "import scipy.optimize as opt"
   ]
  },
  {
   "cell_type": "code",
   "execution_count": 119,
   "metadata": {},
   "outputs": [],
   "source": [
    "res = opt.minimize( fun = regularized_cost,\n",
    "                    x0 = param,\n",
    "                    args = (Y_norm, R, n_features, l),\n",
    "                    method = 'TNC',\n",
    "                    jac = regularized_gradient\n",
    "                    )"
   ]
  },
  {
   "cell_type": "code",
   "execution_count": 120,
   "metadata": {},
   "outputs": [
    {
     "data": {
      "text/plain": [
       "     fun: 64721.49781506433\n",
       "     jac: array([-2.95446267e-07,  3.95324774e-07,  1.48849110e-07, ...,\n",
       "       -3.76053618e-07, -3.67190009e-07,  1.43719068e-06])\n",
       " message: 'Converged (|f_n-f_(n-1)| ~= 0)'\n",
       "    nfev: 3037\n",
       "     nit: 94\n",
       "  status: 1\n",
       " success: True\n",
       "       x: array([ 0.35131505,  0.12542337,  0.20051368, ..., -0.38833666,\n",
       "       -0.25677522,  0.194782  ])"
      ]
     },
     "execution_count": 120,
     "metadata": {},
     "output_type": "execute_result"
    }
   ],
   "source": [
    "res"
   ]
  },
  {
   "cell_type": "markdown",
   "metadata": {},
   "source": [
    "##### 我们训练好的最优化的 x 和 theta 都存在 res.x 中，我们将其拆分开"
   ]
  },
  {
   "cell_type": "code",
   "execution_count": 121,
   "metadata": {},
   "outputs": [
    {
     "data": {
      "text/plain": [
       "((1682, 50), (944, 50))"
      ]
     },
     "execution_count": 121,
     "metadata": {},
     "output_type": "execute_result"
    }
   ],
   "source": [
    "X_trained, theta_trained = deserialize(res.x, n_movie, n_user, n_features)\n",
    "X_trained.shape, theta_trained.shape"
   ]
  },
  {
   "cell_type": "markdown",
   "metadata": {},
   "source": [
    "##### 对第 $i$ 部电影的评分应加上均值： $X^{(i)}(\\theta^{(i)})^{T} + \\mu_{i}$"
   ]
  },
  {
   "cell_type": "code",
   "execution_count": 122,
   "metadata": {},
   "outputs": [],
   "source": [
    "prediction = X_trained @ theta_trained.T\n",
    "my_pred = prediction[:, 0] + Y.mean()"
   ]
  },
  {
   "cell_type": "markdown",
   "metadata": {},
   "source": [
    "##### 对第 1 列虚拟用户的预测评分进行排序（默认为从小到大），反向切片后为从大到小"
   ]
  },
  {
   "cell_type": "code",
   "execution_count": 123,
   "metadata": {},
   "outputs": [
    {
     "data": {
      "text/plain": [
       "(1682,)"
      ]
     },
     "execution_count": 123,
     "metadata": {},
     "output_type": "execute_result"
    }
   ],
   "source": [
    "idx = np.argsort(my_pred)[::-1]\n",
    "idx.shape"
   ]
  },
  {
   "cell_type": "markdown",
   "metadata": {},
   "source": [
    "##### 按照掩码 idx 索引，取出前 10 部电影"
   ]
  },
  {
   "cell_type": "code",
   "execution_count": 124,
   "metadata": {},
   "outputs": [
    {
     "data": {
      "text/plain": [
       "array([4.12534772, 4.0441397 , 3.99324422, 3.91902781, 3.81690928,\n",
       "       3.81556206, 3.76602658, 3.76322808, 3.75905655, 3.75077471])"
      ]
     },
     "execution_count": 124,
     "metadata": {},
     "output_type": "execute_result"
    }
   ],
   "source": [
    "my_pred[idx][:10]"
   ]
  },
  {
   "cell_type": "code",
   "execution_count": 125,
   "metadata": {},
   "outputs": [
    {
     "name": "stdout",
     "output_type": "stream",
     "text": [
      "Titanic (1997)\n",
      "Star Wars (1977)\n",
      "Shawshank Redemption, The (1994)\n",
      "Forrest Gump (1994)\n",
      "Raiders of the Lost Ark (1981)\n",
      "Braveheart (1995)\n",
      "Return of the Jedi (1983)\n",
      "Usual Suspects, The (1995)\n",
      "Godfather, The (1972)\n",
      "Schindler's List (1993)\n"
     ]
    }
   ],
   "source": [
    "for m in movie_list[idx][:10]:\n",
    "    print(m)"
   ]
  },
  {
   "cell_type": "code",
   "execution_count": null,
   "metadata": {},
   "outputs": [],
   "source": []
  }
 ],
 "metadata": {
  "kernelspec": {
   "display_name": "Python 3",
   "language": "python",
   "name": "python3"
  },
  "language_info": {
   "codemirror_mode": {
    "name": "ipython",
    "version": 3
   },
   "file_extension": ".py",
   "mimetype": "text/x-python",
   "name": "python",
   "nbconvert_exporter": "python",
   "pygments_lexer": "ipython3",
   "version": "3.6.5"
  }
 },
 "nbformat": 4,
 "nbformat_minor": 2
}
